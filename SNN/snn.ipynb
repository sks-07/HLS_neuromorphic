{
 "cells": [
  {
   "cell_type": "code",
   "execution_count": 4,
   "metadata": {},
   "outputs": [],
   "source": [
    "# !pip install brian2"
   ]
  },
  {
   "cell_type": "code",
   "execution_count": 5,
   "metadata": {},
   "outputs": [],
   "source": [
    "import brian2 \n",
    "import matplotlib.pyplot\n",
    "import numpy\n"
   ]
  },
  {
   "cell_type": "code",
   "execution_count": 8,
   "metadata": {},
   "outputs": [
    {
     "name": "stdout",
     "output_type": "stream",
     "text": [
      "Before = 0.0\n",
      "Before = 0.9999546000702376\n"
     ]
    }
   ],
   "source": [
    "\"\"\"\n",
    "solving the 1d equation using 1 neuron\n",
    "\"\"\"\n",
    "tau = 10*brian2.ms\n",
    "first_order_eq = '''\n",
    "dv/dt = (1-v)/tau :1\n",
    "'''\n",
    "\n",
    "# definig the state \n",
    "G  = brian2.NeuronGroup(1,first_order_eq,'exact')\n",
    "print(f'Before = {G.v[0]}')\n",
    "brian2.run(100*brian2.ms)\n",
    "print(f'Before = {G.v[0]}')\n"
   ]
  },
  {
   "cell_type": "code",
   "execution_count": 10,
   "metadata": {},
   "outputs": [
    {
     "data": {
      "text/plain": [
       "0.9999546000702375"
      ]
     },
     "execution_count": 10,
     "metadata": {},
     "output_type": "execute_result"
    }
   ],
   "source": [
    "#expected value\n",
    "1-numpy.exp(-10)"
   ]
  },
  {
   "cell_type": "code",
   "execution_count": null,
   "metadata": {},
   "outputs": [],
   "source": []
  },
  {
   "cell_type": "code",
   "execution_count": null,
   "metadata": {},
   "outputs": [],
   "source": []
  }
 ],
 "metadata": {
  "kernelspec": {
   "display_name": "base",
   "language": "python",
   "name": "python3"
  },
  "language_info": {
   "codemirror_mode": {
    "name": "ipython",
    "version": 3
   },
   "file_extension": ".py",
   "mimetype": "text/x-python",
   "name": "python",
   "nbconvert_exporter": "python",
   "pygments_lexer": "ipython3",
   "version": "3.9.13"
  },
  "orig_nbformat": 4
 },
 "nbformat": 4,
 "nbformat_minor": 2
}
